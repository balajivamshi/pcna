{
 "cells": [
  {
   "cell_type": "code",
   "execution_count": 26,
   "metadata": {},
   "outputs": [],
   "source": [
    "import networkx as nx"
   ]
  },
  {
   "cell_type": "code",
   "execution_count": 27,
   "metadata": {},
   "outputs": [],
   "source": [
    "config IPCompleter.greedy=True "
   ]
  },
  {
   "cell_type": "code",
   "execution_count": 28,
   "metadata": {},
   "outputs": [],
   "source": [
    "G = nx.karate_club_graph()"
   ]
  },
  {
   "cell_type": "code",
   "execution_count": 29,
   "metadata": {},
   "outputs": [
    {
     "data": {
      "text/plain": [
       "False"
      ]
     },
     "execution_count": 29,
     "metadata": {},
     "output_type": "execute_result"
    }
   ],
   "source": [
    "G.is_directed()"
   ]
  },
  {
   "cell_type": "code",
   "execution_count": 30,
   "metadata": {},
   "outputs": [],
   "source": [
    "CC=nx.closeness_centrality(G)"
   ]
  },
  {
   "cell_type": "code",
   "execution_count": 31,
   "metadata": {},
   "outputs": [
    {
     "data": {
      "text/plain": [
       "{0: 0.5689655172413793,\n",
       " 1: 0.4852941176470588,\n",
       " 2: 0.559322033898305,\n",
       " 3: 0.4647887323943662,\n",
       " 4: 0.3793103448275862,\n",
       " 5: 0.38372093023255816,\n",
       " 6: 0.38372093023255816,\n",
       " 7: 0.44,\n",
       " 8: 0.515625,\n",
       " 9: 0.4342105263157895,\n",
       " 10: 0.3793103448275862,\n",
       " 11: 0.36666666666666664,\n",
       " 12: 0.3707865168539326,\n",
       " 13: 0.515625,\n",
       " 14: 0.3707865168539326,\n",
       " 15: 0.3707865168539326,\n",
       " 16: 0.28448275862068967,\n",
       " 17: 0.375,\n",
       " 18: 0.3707865168539326,\n",
       " 19: 0.5,\n",
       " 20: 0.3707865168539326,\n",
       " 21: 0.375,\n",
       " 22: 0.3707865168539326,\n",
       " 23: 0.39285714285714285,\n",
       " 24: 0.375,\n",
       " 25: 0.375,\n",
       " 26: 0.3626373626373626,\n",
       " 27: 0.4583333333333333,\n",
       " 28: 0.4520547945205479,\n",
       " 29: 0.38372093023255816,\n",
       " 30: 0.4583333333333333,\n",
       " 31: 0.5409836065573771,\n",
       " 32: 0.515625,\n",
       " 33: 0.55}"
      ]
     },
     "execution_count": 31,
     "metadata": {},
     "output_type": "execute_result"
    }
   ],
   "source": [
    "CC"
   ]
  },
  {
   "cell_type": "code",
   "execution_count": 32,
   "metadata": {},
   "outputs": [],
   "source": [
    "BC=nx.betweenness_centrality(G)"
   ]
  },
  {
   "cell_type": "code",
   "execution_count": 33,
   "metadata": {},
   "outputs": [
    {
     "data": {
      "text/plain": [
       "{0: 0.43763528138528146,\n",
       " 1: 0.053936688311688304,\n",
       " 2: 0.14365680615680618,\n",
       " 3: 0.011909271284271283,\n",
       " 4: 0.0006313131313131313,\n",
       " 5: 0.02998737373737374,\n",
       " 6: 0.029987373737373736,\n",
       " 7: 0.0,\n",
       " 8: 0.05592682780182781,\n",
       " 9: 0.0008477633477633478,\n",
       " 10: 0.0006313131313131313,\n",
       " 11: 0.0,\n",
       " 12: 0.0,\n",
       " 13: 0.04586339586339586,\n",
       " 14: 0.0,\n",
       " 15: 0.0,\n",
       " 16: 0.0,\n",
       " 17: 0.0,\n",
       " 18: 0.0,\n",
       " 19: 0.03247504810004811,\n",
       " 20: 0.0,\n",
       " 21: 0.0,\n",
       " 22: 0.0,\n",
       " 23: 0.017613636363636363,\n",
       " 24: 0.0022095959595959595,\n",
       " 25: 0.0038404882154882154,\n",
       " 26: 0.0,\n",
       " 27: 0.02233345358345358,\n",
       " 28: 0.0017947330447330447,\n",
       " 29: 0.0029220779220779218,\n",
       " 30: 0.014411976911976909,\n",
       " 31: 0.13827561327561325,\n",
       " 32: 0.145247113997114,\n",
       " 33: 0.30407497594997596}"
      ]
     },
     "execution_count": 33,
     "metadata": {},
     "output_type": "execute_result"
    }
   ],
   "source": [
    "BC"
   ]
  },
  {
   "cell_type": "code",
   "execution_count": 34,
   "metadata": {},
   "outputs": [],
   "source": [
    "VD=[]\n",
    "for i in range(0,len(G.nodes())):\n",
    "    VD.append(G.degree(i)/(len(G.nodes())-1))"
   ]
  },
  {
   "cell_type": "code",
   "execution_count": 35,
   "metadata": {},
   "outputs": [
    {
     "data": {
      "text/plain": [
       "[0.48484848484848486,\n",
       " 0.2727272727272727,\n",
       " 0.30303030303030304,\n",
       " 0.18181818181818182,\n",
       " 0.09090909090909091,\n",
       " 0.12121212121212122,\n",
       " 0.12121212121212122,\n",
       " 0.12121212121212122,\n",
       " 0.15151515151515152,\n",
       " 0.06060606060606061,\n",
       " 0.09090909090909091,\n",
       " 0.030303030303030304,\n",
       " 0.06060606060606061,\n",
       " 0.15151515151515152,\n",
       " 0.06060606060606061,\n",
       " 0.06060606060606061,\n",
       " 0.06060606060606061,\n",
       " 0.06060606060606061,\n",
       " 0.06060606060606061,\n",
       " 0.09090909090909091,\n",
       " 0.06060606060606061,\n",
       " 0.06060606060606061,\n",
       " 0.06060606060606061,\n",
       " 0.15151515151515152,\n",
       " 0.09090909090909091,\n",
       " 0.09090909090909091,\n",
       " 0.06060606060606061,\n",
       " 0.12121212121212122,\n",
       " 0.09090909090909091,\n",
       " 0.12121212121212122,\n",
       " 0.12121212121212122,\n",
       " 0.18181818181818182,\n",
       " 0.36363636363636365,\n",
       " 0.5151515151515151]"
      ]
     },
     "execution_count": 35,
     "metadata": {},
     "output_type": "execute_result"
    }
   ],
   "source": [
    "VD"
   ]
  },
  {
   "cell_type": "code",
   "execution_count": 36,
   "metadata": {},
   "outputs": [],
   "source": [
    "N=nx.DiGraph()"
   ]
  },
  {
   "cell_type": "code",
   "execution_count": 37,
   "metadata": {},
   "outputs": [],
   "source": [
    "N.add_nodes_from([1,2,3,4,5,6,7,8,9,10])"
   ]
  },
  {
   "cell_type": "code",
   "execution_count": null,
   "metadata": {},
   "outputs": [],
   "source": [
    "for"
   ]
  },
  {
   "cell_type": "code",
   "execution_count": 38,
   "metadata": {},
   "outputs": [
    {
     "data": {
      "text/plain": [
       "True"
      ]
     },
     "execution_count": 38,
     "metadata": {},
     "output_type": "execute_result"
    }
   ],
   "source": [
    "N.is_directed()"
   ]
  },
  {
   "cell_type": "code",
   "execution_count": 39,
   "metadata": {},
   "outputs": [],
   "source": [
    "DC=nx.degree_centrality(N)"
   ]
  },
  {
   "cell_type": "code",
   "execution_count": 40,
   "metadata": {},
   "outputs": [],
   "source": [
    "BC=nx.degree_centrality(N)"
   ]
  },
  {
   "cell_type": "code",
   "execution_count": 42,
   "metadata": {},
   "outputs": [],
   "source": [
    "CC=nx.degree_centrality(N)"
   ]
  },
  {
   "cell_type": "code",
   "execution_count": 43,
   "metadata": {},
   "outputs": [
    {
     "data": {
      "text/plain": [
       "{1: 0.0,\n",
       " 2: 0.0,\n",
       " 3: 0.0,\n",
       " 4: 0.0,\n",
       " 5: 0.0,\n",
       " 6: 0.0,\n",
       " 7: 0.0,\n",
       " 8: 0.0,\n",
       " 9: 0.0,\n",
       " 10: 0.0}"
      ]
     },
     "execution_count": 43,
     "metadata": {},
     "output_type": "execute_result"
    }
   ],
   "source": [
    "BC"
   ]
  },
  {
   "cell_type": "code",
   "execution_count": 44,
   "metadata": {},
   "outputs": [
    {
     "data": {
      "text/plain": [
       "{1: 0.0,\n",
       " 2: 0.0,\n",
       " 3: 0.0,\n",
       " 4: 0.0,\n",
       " 5: 0.0,\n",
       " 6: 0.0,\n",
       " 7: 0.0,\n",
       " 8: 0.0,\n",
       " 9: 0.0,\n",
       " 10: 0.0}"
      ]
     },
     "execution_count": 44,
     "metadata": {},
     "output_type": "execute_result"
    }
   ],
   "source": [
    "DC"
   ]
  },
  {
   "cell_type": "code",
   "execution_count": 45,
   "metadata": {},
   "outputs": [
    {
     "data": {
      "text/plain": [
       "{1: 0.0,\n",
       " 2: 0.0,\n",
       " 3: 0.0,\n",
       " 4: 0.0,\n",
       " 5: 0.0,\n",
       " 6: 0.0,\n",
       " 7: 0.0,\n",
       " 8: 0.0,\n",
       " 9: 0.0,\n",
       " 10: 0.0}"
      ]
     },
     "execution_count": 45,
     "metadata": {},
     "output_type": "execute_result"
    }
   ],
   "source": [
    "CC"
   ]
  },
  {
   "cell_type": "code",
   "execution_count": null,
   "metadata": {},
   "outputs": [],
   "source": []
  }
 ],
 "metadata": {
  "kernelspec": {
   "display_name": "Python 3",
   "language": "python",
   "name": "python3"
  },
  "language_info": {
   "codemirror_mode": {
    "name": "ipython",
    "version": 3
   },
   "file_extension": ".py",
   "mimetype": "text/x-python",
   "name": "python",
   "nbconvert_exporter": "python",
   "pygments_lexer": "ipython3",
   "version": "3.7.4"
  }
 },
 "nbformat": 4,
 "nbformat_minor": 2
}
